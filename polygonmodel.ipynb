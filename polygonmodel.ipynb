{
 "cells": [
  {
   "cell_type": "code",
   "execution_count": 1,
   "id": "38623e13",
   "metadata": {},
   "outputs": [
    {
     "name": "stderr",
     "output_type": "stream",
     "text": [
      "\n",
      "[notice] A new release of pip available: 22.2.2 -> 23.2.1\n",
      "[notice] To update, run: python.exe -m pip install --upgrade pip\n"
     ]
    },
    {
     "name": "stdout",
     "output_type": "stream",
     "text": [
      "Requirement already satisfied: polygon-api-client in c:\\python310\\lib\\site-packages (1.10.1)\n",
      "Requirement already satisfied: urllib3<2.0.0,>=1.26.9 in c:\\python310\\lib\\site-packages (from polygon-api-client) (1.26.13)\n",
      "Requirement already satisfied: certifi<2023.0.0,>=2022.5.18 in c:\\users\\geokn\\appdata\\roaming\\python\\python310\\site-packages (from polygon-api-client) (2022.12.7)\n",
      "Requirement already satisfied: websockets<12.0,>=10.3 in c:\\python310\\lib\\site-packages (from polygon-api-client) (11.0.3)\n"
     ]
    }
   ],
   "source": [
    "!pip install polygon-api-client\n",
    "from polygon import RESTClient \n",
    "from local_settings import polygon as settings\n",
    "from datetime import date, datetime\n",
    "import pandas as pd\n",
    "import plotly.graph_objects as go\n",
    "from plotly.offline import plot"
   ]
  },
  {
   "cell_type": "code",
   "execution_count": 2,
   "id": "1172934d",
   "metadata": {},
   "outputs": [],
   "source": [
    "client = RESTClient(settings['api_key'])"
   ]
  },
  {
   "cell_type": "code",
   "execution_count": 4,
   "id": "bd1612a6",
   "metadata": {},
   "outputs": [],
   "source": [
    "stockTicker = 'AAPL'\n",
    "dataRequest = client.get_aggs(ticker = stockTicker, multiplier = 1, timespan = 'day', from_ = '2021-07-25', to = '2023-07-25')"
   ]
  },
  {
   "cell_type": "code",
   "execution_count": 5,
   "id": "eff813a0",
   "metadata": {},
   "outputs": [],
   "source": [
    "priceData = pd.DataFrame(dataRequest)"
   ]
  },
  {
   "cell_type": "code",
   "execution_count": 6,
   "id": "da31a678",
   "metadata": {},
   "outputs": [],
   "source": [
    "priceData['Date'] = priceData['timestamp'].apply(\n",
    "                          lambda x: pd.to_datetime(x*1000000))\n",
    "\n",
    "priceData = priceData.set_index('Date')"
   ]
  },
  {
   "cell_type": "code",
   "execution_count": 7,
   "id": "e0845ed2",
   "metadata": {},
   "outputs": [
    {
     "data": {
      "text/plain": [
       "'temp-plot.html'"
      ]
     },
     "execution_count": 7,
     "metadata": {},
     "output_type": "execute_result"
    }
   ],
   "source": [
    "fig = go.Figure(data=[go.Candlestick(x=priceData.index,\n",
    "                open=priceData['open'],\n",
    "                high=priceData['high'],\n",
    "                low=priceData['low'],\n",
    "                close=priceData['close'])])\n",
    "\n",
    "\n",
    "plot(fig, auto_open=True)"
   ]
  },
  {
   "cell_type": "code",
   "execution_count": null,
   "id": "e640f236",
   "metadata": {},
   "outputs": [],
   "source": []
  }
 ],
 "metadata": {
  "kernelspec": {
   "display_name": "Python 3 (ipykernel)",
   "language": "python",
   "name": "python3"
  },
  "language_info": {
   "codemirror_mode": {
    "name": "ipython",
    "version": 3
   },
   "file_extension": ".py",
   "mimetype": "text/x-python",
   "name": "python",
   "nbconvert_exporter": "python",
   "pygments_lexer": "ipython3",
   "version": "3.10.7"
  }
 },
 "nbformat": 4,
 "nbformat_minor": 5
}
